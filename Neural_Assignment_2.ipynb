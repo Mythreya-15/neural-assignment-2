{
  "nbformat": 4,
  "nbformat_minor": 0,
  "metadata": {
    "colab": {
      "provenance": []
    },
    "kernelspec": {
      "name": "python3",
      "display_name": "Python 3"
    },
    "language_info": {
      "name": "python"
    }
  },
  "cells": [
    {
      "cell_type": "markdown",
      "source": [
        "1. Write a program that takes two strings from the user: first_name, last_name. Pass these variables to\n",
        "fullname function that should return the (full name).\n"
      ],
      "metadata": {
        "id": "FuFiKXzFwc86"
      }
    },
    {
      "cell_type": "code",
      "source": [
        "def getFullname(firstname, Lastname):\n",
        "  return firstname + \" \" + Lastname\n",
        "\n",
        "firstname = input(\"Enter First Name:\")\n",
        "Lastname = input(\"Enter Last Name:\")\n",
        "print(getFullname(firstname, Lastname))"
      ],
      "metadata": {
        "colab": {
          "base_uri": "https://localhost:8080/"
        },
        "id": "RzTa9HyDwgjo",
        "outputId": "ce9bc769-48ea-4e72-acf7-d76a9a754c4e"
      },
      "execution_count": null,
      "outputs": [
        {
          "output_type": "stream",
          "name": "stdout",
          "text": [
            "Enter First Name:Mythreya\n",
            "Enter Last Name:Grandhe\n",
            "Mythreya Grandhe\n"
          ]
        }
      ]
    },
    {
      "cell_type": "markdown",
      "source": [
        "Write function named “string_alternative” that returns every other char in the full_name string."
      ],
      "metadata": {
        "id": "G_n3XgLO0EDE"
      }
    },
    {
      "cell_type": "code",
      "source": [
        "def string_alternative(s):\n",
        "  return s[::2]\n",
        "print(string_alternative(input()))\n"
      ],
      "metadata": {
        "colab": {
          "base_uri": "https://localhost:8080/"
        },
        "id": "ppDkFSg30KSC",
        "outputId": "d1c2b2ce-3906-4bd4-de16-5a48e2138afb"
      },
      "execution_count": null,
      "outputs": [
        {
          "output_type": "stream",
          "name": "stdout",
          "text": [
            "Good Evening\n",
            "Go vnn\n"
          ]
        }
      ]
    },
    {
      "cell_type": "markdown",
      "source": [
        "2. Write a python program to find the wordcount in a file (input.txt) for each line and then print the output."
      ],
      "metadata": {
        "id": "wkjk07zS0YnO"
      }
    },
    {
      "cell_type": "code",
      "source": [
        "with open('input.txt','r') as inputFile:\n",
        "    linesCount =0\n",
        "    freqWords = {}\n",
        "    outputFile = open('output.txt','w')\n",
        "    for line in inputFile:\n",
        "        linesCount += 1\n",
        "        outputFile.write(line)\n",
        "        words = line.strip('\\n').split(' ')\n",
        "        for word in words:\n",
        "            if word in freqWords :\n",
        "                freqWords[word] += 1\n",
        "            else:\n",
        "                freqWords[word] = 1\n",
        "\n",
        "    outputFile.write(' \\n Word_Count:')\n",
        "    for key,value in freqWords.items():\n",
        "        outputFile.write(key + ' : ' + str(value) + '\\n')\n",
        "    print(freqWords)\n"
      ],
      "metadata": {
        "id": "bUunOIC7xgrf"
      },
      "execution_count": null,
      "outputs": []
    },
    {
      "cell_type": "markdown",
      "source": [
        "3. Write a program, which reads heights (inches.) of customers into a list and convert these\n",
        "heights to centimeters in a separate list using:\n"
      ],
      "metadata": {
        "id": "lsiqqqg35FEh"
      }
    },
    {
      "cell_type": "code",
      "source": [
        "l=[]\n",
        "l1=[]\n",
        "n=int(input(\"Enter number of customers:\"))\n",
        "for i in range(n):\n",
        "  l.append(int(input()))\n",
        "  l1.append(l[i]*2.54)\n",
        "print(l)\n",
        "print(l1)\n"
      ],
      "metadata": {
        "colab": {
          "base_uri": "https://localhost:8080/"
        },
        "id": "PXq9dU3x5MZr",
        "outputId": "5d7f5e0c-4fc2-42f5-8238-73b91dc6967b"
      },
      "execution_count": null,
      "outputs": [
        {
          "output_type": "stream",
          "name": "stdout",
          "text": [
            "Enter number of customers:2\n",
            "18\n",
            "21\n",
            "[18, 21]\n",
            "[45.72, 53.34]\n"
          ]
        }
      ]
    },
    {
      "cell_type": "markdown",
      "source": [
        "List Comprehensions\n"
      ],
      "metadata": {
        "id": "oBW7ktzH7rwP"
      }
    },
    {
      "cell_type": "code",
      "source": [
        "def inch_to_cm(inch):\n",
        "    return 2.54 * inch\n",
        "\n",
        "heights_inches = []\n",
        "heights_cms = []\n",
        "num_customers = int(input(\"Enter the number of customers: \"))\n",
        "\n",
        "heights_inches = [float(input(f\"Enter height of customer {i + 1} in inches: \")) for i in range(num_customers)]\n",
        "\n",
        "heights_cms = [ inch_to_cm(height) for height in heights_inches]\n",
        "\n",
        "print(heights_cms)"
      ],
      "metadata": {
        "colab": {
          "base_uri": "https://localhost:8080/"
        },
        "id": "1bq2ts53714I",
        "outputId": "b121efe1-2082-4dff-b120-3ce3cf82da07"
      },
      "execution_count": null,
      "outputs": [
        {
          "output_type": "stream",
          "name": "stdout",
          "text": [
            "Enter the number of customers: 2\n",
            "Enter height of customer 1 in inches: 18\n",
            "Enter height of customer 2 in inches: 21\n",
            "[45.72, 53.34]\n"
          ]
        }
      ]
    }
  ]
}